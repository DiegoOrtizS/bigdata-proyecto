{
 "cells": [
  {
   "cell_type": "code",
   "execution_count": 12,
   "metadata": {},
   "outputs": [],
   "source": [
    "import torchvision\n",
    "import torch.nn as nn\n",
    "import torch.optim as optim\n",
    "import torch\n",
    "from typing import List, Dict, Union\n",
    "import glob\n",
    "import cv2\n",
    "import matplotlib.pyplot as plt\n",
    "import numpy as np"
   ]
  },
  {
   "cell_type": "code",
   "execution_count": 6,
   "metadata": {},
   "outputs": [],
   "source": [
    "loss_fn = nn.CrossEntropyLoss()"
   ]
  },
  {
   "cell_type": "code",
   "execution_count": 21,
   "metadata": {},
   "outputs": [],
   "source": [
    "DATA_DIR: str = \"datasets\"\n",
    "IMG_SIZE: int = 12 # 256\n",
    "NUM_FRAMES_PER_VIDEO: int = 16\n",
    "targets: Dict[str, int] = {\"1\": 0, \"2\": 0, \"3\": 1, \"4\": 1, \"5\": 2, \"6\": 2, \\\n",
    "    \"7\": 3, \"8\": 3, \"HR_1\": 0, \"HR_2\": 1, \"HR_3\": 2, \"HR_4\": 3}\n",
    "\n",
    "def video2frames(video_path: str, resize: Union[int, int] = (IMG_SIZE, IMG_SIZE)) -> np.array:\n",
    "    cap = cv2.VideoCapture(video_path)\n",
    "    frames: list = []\n",
    "    is_there_frame: bool = True\n",
    "    num_total_frames = cap.get(cv2.CAP_PROP_FRAME_COUNT)    \n",
    "    resampling_rate: int = int(num_total_frames / NUM_FRAMES_PER_VIDEO)\n",
    "    idf: int = 0\n",
    "    while is_there_frame and len(frames) < NUM_FRAMES_PER_VIDEO:\n",
    "        idf += 1\n",
    "        is_there_frame, frame = cap.read()\n",
    "        if idf % resampling_rate == 0:\n",
    "            # grayscale\n",
    "            frame = cv2.cvtColor(frame, cv2.COLOR_BGR2GRAY)\n",
    "            # resize\n",
    "            frames.append(frame)\n",
    "    assert len(frames)==NUM_FRAMES_PER_VIDEO\n",
    "    return np.array(frames)\n",
    "\n",
    "def load_casia_dataset() -> Union[list, list]:\n",
    "    try:\n",
    "        num_folders: int = 1\n",
    "        dataset_x: list = []\n",
    "        dataset_y: list = []\n",
    "        with glob.glob(f'{DATA_DIR}/**/*.avi', recursive=True) as files:\n",
    "            files = glob.glob(f'{DATA_DIR}/**/*.avi', recursive=True)\n",
    "            for f in files:\n",
    "                frames: np.array = video2frames(f)\n",
    "                dataset_x = [*dataset_x, *frames]\n",
    "                dataset_x = np.array(dataset_x)\n",
    "                vector_path: List[str] = f.split(\"/\")\n",
    "                tmp = [targets[vector_path[-1][:-4]]]*NUM_FRAMES_PER_VIDEO\n",
    "                dataset_y = [*dataset_y, *tmp]\n",
    "    except LookupError: # IndexError, KeyError\n",
    "        print(\"index from video name not found in map targets\")\n",
    "    return dataset_x, dataset_y"
   ]
  },
  {
   "cell_type": "code",
   "execution_count": 22,
   "metadata": {},
   "outputs": [
    {
     "data": {
      "text/plain": [
       "{0, 1, 2, 3}"
      ]
     },
     "execution_count": 22,
     "metadata": {},
     "output_type": "execute_result"
    }
   ],
   "source": [
    "types: List[str] = set(targets.values())\n",
    "batch_size: int = 32"
   ]
  },
  {
   "cell_type": "code",
   "execution_count": null,
   "metadata": {},
   "outputs": [],
   "source": [
    "train_loader = torch.utils.data.DataLoader(dataset=DATA_DIR+\"/train\",\n",
    "                                        batch_size=batchsize,\n",
    "                                        shuffle=True)\n"
   ]
  },
  {
   "cell_type": "code",
   "execution_count": null,
   "metadata": {},
   "outputs": [],
   "source": [
    "resnet18 = torchvision.models.resnet18(pretrained=True)\n",
    "for e in resnet18.parameters():\n",
    "   e.requires_grad = False\n",
    "device = torch.device('cuda:0' if torch.cuda.is_available() else 'cpu')\n",
    "resnet18.fc = nn.Linear(in_features=512, out_features=len(types), bias=True)\n",
    "optimizer = optim.SGD(resnet18.parameters(), lr=1e-4, weight_decay=0.005, momentum=0.9)\n",
    "resnet18.to(device)"
   ]
  },
  {
   "cell_type": "code",
   "execution_count": null,
   "metadata": {},
   "outputs": [],
   "source": [
    "train_loss_resnet18, val_loss_resnet18 = train(resnet18, optimizer, loss_fn, 50)"
   ]
  }
 ],
 "metadata": {
  "kernelspec": {
   "display_name": "Python 3.10.2 64-bit",
   "language": "python",
   "name": "python3"
  },
  "language_info": {
   "codemirror_mode": {
    "name": "ipython",
    "version": 3
   },
   "file_extension": ".py",
   "mimetype": "text/x-python",
   "name": "python",
   "nbconvert_exporter": "python",
   "pygments_lexer": "ipython3",
   "version": "3.10.2"
  },
  "orig_nbformat": 4,
  "vscode": {
   "interpreter": {
    "hash": "341268af697f69dd1ffdcdac7af840419ecb88f390bc16e46c3586102df69d04"
   }
  }
 },
 "nbformat": 4,
 "nbformat_minor": 2
}
